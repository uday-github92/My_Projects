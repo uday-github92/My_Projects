{
 "cells": [
  {
   "cell_type": "code",
   "execution_count": 1,
   "metadata": {},
   "outputs": [],
   "source": [
    "# pip install transformers"
   ]
  },
  {
   "cell_type": "code",
   "execution_count": 2,
   "metadata": {},
   "outputs": [],
   "source": [
    "# pip install tensorflow"
   ]
  },
  {
   "cell_type": "code",
   "execution_count": 3,
   "metadata": {},
   "outputs": [],
   "source": [
    "    # pip install --upgrade pip"
   ]
  },
  {
   "cell_type": "code",
   "execution_count": 4,
   "metadata": {},
   "outputs": [],
   "source": [
    "# pip install --upgrade tensorflow"
   ]
  },
  {
   "cell_type": "code",
   "execution_count": 5,
   "metadata": {},
   "outputs": [],
   "source": [
    "import pathlib\n",
    "import random\n",
    "import string\n",
    "import re\n",
    "import numpy as np\n",
    "import tensorflow as tf\n",
    "from tensorflow import keras\n",
    "from tensorflow.keras import layers\n",
    "from tensorflow.keras.layers import TextVectorization, LayerNormalization\n",
    "from tensorflow.keras.layers import Bidirectional,GRU,LSTM,Embedding,Dropout,Layer,MultiHeadAttention,Dense\n",
    "from tensorflow.keras import Sequential,Input\n",
    "from tensorflow.keras.callbacks import ModelCheckpoint"
   ]
  },
  {
   "cell_type": "code",
   "execution_count": 6,
   "metadata": {},
   "outputs": [],
   "source": [
    "text_file = keras.utils.get_file(\n",
    "    fname=\"spa-eng.zip\",\n",
    "    origin=\"http://storage.googleapis.com/download.tensorflow.org/data/spa-eng.zip\",\n",
    "    extract=True,\n",
    ")\n",
    "text_file = pathlib.Path(text_file).parent / \"spa-eng\" / \"spa.txt\""
   ]
  },
  {
   "cell_type": "code",
   "execution_count": 7,
   "metadata": {},
   "outputs": [],
   "source": [
    "with open(text_file, 'r', encoding='utf-8', errors='ignore') as f:\n",
    "    lines = f.read().split(\"\\n\")[:-1]\n",
    "lng_pairs = []\n",
    "for line in lines:\n",
    "    eng, spa = line.split(\"\\t\")\n",
    "    spa = \"[start] \" + spa + \" [end]\"\n",
    "    lng_pairs.append((eng, spa))"
   ]
  },
  {
   "cell_type": "code",
   "execution_count": 8,
   "metadata": {},
   "outputs": [
    {
     "name": "stdout",
     "output_type": "stream",
     "text": [
      "('Tom is dating Mary.', '[start] Tom está saliendo con Mary. [end]')\n",
      "('I like to play soccer.', '[start] Me gusta jugar al futbol. [end]')\n",
      "('Tom told Mary not to be late.', '[start] Tom le dijo a Mary que no llegara tarde. [end]')\n",
      "('You are mad to go out in the snow without a coat.', '[start] Tienes que estar loco para ir a la nieve sin un abrigo. [end]')\n",
      "('They finished their meal.', '[start] Ellos terminaron su comida. [end]')\n"
     ]
    }
   ],
   "source": [
    "for _ in range(5):\n",
    "    print(random.choice(lng_pairs))"
   ]
  },
  {
   "cell_type": "code",
   "execution_count": 9,
   "metadata": {},
   "outputs": [],
   "source": [
    "import random\n",
    "\n",
    "subset_size = 5000\n",
    "\n",
    "# Randomly select a subset of pairs\n",
    "text_pairs = random.sample(lng_pairs, subset_size)\n"
   ]
  },
  {
   "cell_type": "code",
   "execution_count": 10,
   "metadata": {},
   "outputs": [
    {
     "name": "stdout",
     "output_type": "stream",
     "text": [
      "5000 total pairs\n",
      "3500 training pairs\n",
      "750 validation pairs\n",
      "750 test pairs\n"
     ]
    }
   ],
   "source": [
    "random.shuffle(text_pairs)\n",
    "num_val_samples = int(0.15 * len(text_pairs))\n",
    "num_train_samples = len(text_pairs) - 2 * num_val_samples\n",
    "train_pairs = text_pairs[:num_train_samples]\n",
    "val_pairs = text_pairs[num_train_samples : num_train_samples + num_val_samples]\n",
    "test_pairs = text_pairs[num_train_samples + num_val_samples :]\n",
    "\n",
    "print(f\"{len(text_pairs)} total pairs\")\n",
    "print(f\"{len(train_pairs)} training pairs\")\n",
    "print(f\"{len(val_pairs)} validation pairs\")\n",
    "print(f\"{len(test_pairs)} test pairs\")"
   ]
  },
  {
   "cell_type": "code",
   "execution_count": 11,
   "metadata": {},
   "outputs": [],
   "source": [
    "strip_chars = string.punctuation + \"¿\"\n",
    "strip_chars = strip_chars.replace(\"[\", \"\")\n",
    "strip_chars = strip_chars.replace(\"]\", \"\")"
   ]
  },
  {
   "cell_type": "code",
   "execution_count": 12,
   "metadata": {},
   "outputs": [],
   "source": [
    "vocab_size = 5000\n",
    "sequence_length = 10\n",
    "batch_size = 34"
   ]
  },
  {
   "cell_type": "code",
   "execution_count": 13,
   "metadata": {},
   "outputs": [],
   "source": [
    "def custom_standardization(input_string):\n",
    "    lowercase = tf.strings.lower(input_string)\n",
    "    return tf.strings.regex_replace(lowercase, \"[%s]\" % re.escape(strip_chars), \"\")\n",
    "\n",
    "\n",
    "eng_vectorization = TextVectorization(\n",
    "    max_tokens=vocab_size, output_mode=\"int\", output_sequence_length=sequence_length,\n",
    ")\n",
    "spa_vectorization = TextVectorization(\n",
    "    max_tokens=vocab_size,\n",
    "    output_mode=\"int\",\n",
    "    output_sequence_length=sequence_length + 1,\n",
    "    standardize=custom_standardization,\n",
    ")\n",
    "eng_train_texts = [pair[0] for pair in train_pairs]\n",
    "spa_train_texts = [pair[1] for pair in train_pairs]\n",
    "eng_vectorization.adapt(eng_train_texts)\n",
    "spa_vectorization.adapt(spa_train_texts)"
   ]
  },
  {
   "cell_type": "code",
   "execution_count": 14,
   "metadata": {},
   "outputs": [],
   "source": [
    "def vector_dataset(eng, spa):\n",
    "    eng = eng_vectorization(eng)\n",
    "    spa = spa_vectorization(spa)\n",
    "    return ({\"encoder_inputs\": eng, \"decoder_inputs\": spa[:, :-1],}, spa[:, 1:])\n",
    "\n",
    "\n",
    "def new_dataset(pairs):\n",
    "    eng_texts, spa_texts = zip(*pairs)\n",
    "    eng_texts = list(eng_texts)\n",
    "    spa_texts = list(spa_texts)\n",
    "    dataset = tf.data.Dataset.from_tensor_slices((eng_texts, spa_texts))\n",
    "    dataset = dataset.batch(batch_size)\n",
    "    dataset = dataset.map(vector_dataset)\n",
    "    return dataset.shuffle(2048).prefetch(16).cache()\n",
    "\n",
    "\n",
    "train_data = new_dataset(train_pairs)\n",
    "val_data = new_dataset(val_pairs)"
   ]
  },
  {
   "cell_type": "code",
   "execution_count": 15,
   "metadata": {},
   "outputs": [
    {
     "name": "stdout",
     "output_type": "stream",
     "text": [
      "inputs encoder shape: (34, 10)\n",
      "decoder shape: (34, 10)\n",
      "targets shape: (34, 10)\n"
     ]
    }
   ],
   "source": [
    "for inputs, targets in train_data.take(1):\n",
    "    print(f'inputs encoder shape: {inputs[\"encoder_inputs\"].shape}')\n",
    "    print(f'decoder shape: {inputs[\"decoder_inputs\"].shape}')\n",
    "    print(f\"targets shape: {targets.shape}\")"
   ]
  },
  {
   "cell_type": "code",
   "execution_count": 16,
   "metadata": {},
   "outputs": [],
   "source": [
    "# class TransformerEncoder(Layer):\n",
    "#     def __init__(self, embed_dim, dense_dim, num_heads, **kwargs):\n",
    "#         super(TransformerEncoder, self).__init__(**kwargs)\n",
    "#         self.embed_dim = embed_dim\n",
    "#         self.dense_dim = dense_dim\n",
    "#         self.num_heads = num_heads\n",
    "#         self.attention = MultiHeadAttention(\n",
    "#             num_heads=num_heads, key_dim=embed_dim\n",
    "#         )\n",
    "#         self.dense_proj = Sequential(\n",
    "#             [Dense(dense_dim, activation=\"relu\"), Dense(embed_dim),]\n",
    "#         )\n",
    "#         self.layernorm_1 = LayerNormalization()\n",
    "#         self.layernorm_2 = LayerNormalization()\n",
    "#         self.supports_masking = True\n",
    "\n",
    "#     def call(self, inputs, mask=None):\n",
    "#         if mask is not None:\n",
    "#             padding_mask = tf.cast(mask[:, tf.newaxis, tf.newaxis, :], dtype=\"int32\")\n",
    "#         attention_output = self.attention(\n",
    "#             query=inputs, value=inputs, key=inputs, attention_mask=padding_mask\n",
    "#         )\n",
    "        \n",
    "#         proj_input = self.layernorm_1(inputs + attention_output)\n",
    "#         proj_output = self.dense_proj(proj_input)\n",
    "#         return self.layernorm_2(proj_input + proj_output)\n",
    "#     def get_config(self):\n",
    "#         config = super().get_config()\n",
    "#         config.update({\n",
    "#             \"embed_dim\": self.embed_dim,\n",
    "#             \"dense_dim\": self.dense_dim,\n",
    "#             \"num_heads\": self.num_heads,\n",
    "#         })\n",
    "#         return config\n"
   ]
  },
  {
   "cell_type": "code",
   "execution_count": 17,
   "metadata": {},
   "outputs": [],
   "source": [
    "# class TransformerDecoder(Layer):\n",
    "#     def __init__(self, embed_dim, dense_dim, num_heads, **kwargs):\n",
    "#         super().__init__(**kwargs)\n",
    "#         self.embed_dim = embed_dim\n",
    "#         self.dense_dim = dense_dim\n",
    "#         self.num_heads = num_heads\n",
    "#         self.attention_1 = MultiHeadAttention(\n",
    "#             num_heads=num_heads, key_dim=embed_dim)\n",
    "#         self.attention_2 = MultiHeadAttention(\n",
    "#             num_heads=num_heads, key_dim=embed_dim)\n",
    "#         self.dense_proj = keras.Sequential(\n",
    "#             [Dense(dense_dim, activation=\"relu\"),\n",
    "#              Dense(embed_dim),]\n",
    "#         )\n",
    "#         self.layernorm_1 = LayerNormalization()\n",
    "#         self.layernorm_2 = LayerNormalization()\n",
    "#         self.layernorm_3 = LayerNormalization()\n",
    "#         self.supports_masking = True\n",
    "\n",
    "#     def get_config(self):\n",
    "#         config = super().get_config()\n",
    "#         config.update({\n",
    "#             \"embed_dim\": self.embed_dim,\n",
    "#             \"num_heads\": self.num_heads,\n",
    "#             \"dense_dim\": self.dense_dim,\n",
    "#         })\n",
    "#         return config\n",
    "\n",
    "#     def get_causal_attention_mask(self, inputs):\n",
    "#         input_shape = tf.shape(inputs)\n",
    "#         batch_size, sequence_length = input_shape[0], input_shape[1]\n",
    "#         i = tf.range(sequence_length)[:, tf.newaxis]\n",
    "#         j = tf.range(sequence_length)\n",
    "#         mask = tf.cast(i >= j, dtype=\"int32\")\n",
    "#         mask = tf.reshape(mask, (1, input_shape[1], input_shape[1]))\n",
    "#         mult = tf.concat(\n",
    "#             [tf.expand_dims(batch_size, -1),\n",
    "#              tf.constant([1, 1], dtype=tf.int32)], axis=0)\n",
    "#         return tf.tile(mask, mult)\n",
    "\n",
    "#     def call(self, inputs, encoder_outputs, mask=None):\n",
    "#         causal_mask = self.get_causal_attention_mask(inputs)\n",
    "#         if mask is not None:\n",
    "#             padding_mask = tf.cast(\n",
    "#                 mask[:, tf.newaxis, :], dtype=\"int32\")\n",
    "#             padding_mask = tf.minimum(padding_mask, causal_mask)\n",
    "#         attention_output_1 = self.attention_1(\n",
    "#             query=inputs,\n",
    "#             value=inputs,\n",
    "#             key=inputs,\n",
    "#             attention_mask=causal_mask)\n",
    "#         attention_output_1 = self.layernorm_1(inputs + attention_output_1)\n",
    "#         attention_output_2 = self.attention_2(\n",
    "#             query=attention_output_1,\n",
    "#             value=encoder_outputs,\n",
    "#             key=encoder_outputs,\n",
    "#             attention_mask=padding_mask,\n",
    "#         )\n",
    "#         attention_output_2 = self.layernorm_2(\n",
    "#             attention_output_1 + attention_output_2)\n",
    "#         proj_output = self.dense_proj(attention_output_2)\n",
    "#         return self.layernorm_3(attention_output_2 + proj_output)"
   ]
  },
  {
   "cell_type": "code",
   "execution_count": 18,
   "metadata": {},
   "outputs": [],
   "source": [
    "# class PositionalEmbedding(Layer):\n",
    "#     def __init__(self, sequence_length, input_dim, output_dim, **kwargs):\n",
    "#         super().__init__(**kwargs)\n",
    "#         self.token_embeddings = Embedding(\n",
    "#             input_dim=input_dim, output_dim=output_dim)\n",
    "#         print(input_dim,output_dim)\n",
    "#         #intermediate = self.getPositionEncoding(seq_len=input_dim,d=vocab_size,n=output_dim)\n",
    "#         self.position_embeddings = Embedding(input_dim=input_dim, output_dim=output_dim)\n",
    "#         self.sequence_length = sequence_length\n",
    "#         self.input_dim = input_dim\n",
    "#         self.output_dim = output_dim\n",
    "\n",
    "#     def getPositionEncoding(self,seq_len, d, n = sequence_length):\n",
    "#         P = np.zeros((seq_len, d))\n",
    "#         for k in range(seq_len):\n",
    "#             for i in np.arange(int(d/2)):\n",
    "#                 denominator = np.power(n, 2*i/d)\n",
    "#                 P[k, 2*i] = np.sin(k/denominator)\n",
    "#                 P[k, 2*i+1] = np.cos(k/denominator)\n",
    "#         tensor = tf.convert_to_tensor(P)\n",
    "#         print(tensor.shape)\n",
    "#         return tensor\n",
    "    \n",
    "#     def call(self, inputs):\n",
    "#         length = tf.shape(inputs)[-1]\n",
    "#         positions = tf.range(start=0, limit=length, delta=1)\n",
    "#         embedded_tokens = self.token_embeddings(inputs)\n",
    "#         embedded_positions = self.position_embeddings(positions)\n",
    "#         return embedded_tokens + embedded_positions\n",
    "\n",
    "#     def compute_mask(self, inputs, mask=None):\n",
    "#         return tf.math.not_equal(inputs, 0)\n",
    "\n",
    "#     def get_config(self):\n",
    "#         config = super(PositionalEmbedding, self).get_config()\n",
    "#         config.update({\n",
    "#             \"output_dim\": self.output_dim,\n",
    "#             \"sequence_length\": self.sequence_length,\n",
    "#             \"input_dim\": self.input_dim,\n",
    "#         })\n",
    "#         return config"
   ]
  },
  {
   "cell_type": "code",
   "execution_count": 19,
   "metadata": {},
   "outputs": [],
   "source": [
    "# embed_dim = 256\n",
    "# dense_dim = 2048\n",
    "# num_heads = 8\n",
    "\n",
    "# encoder_inputs = keras.Input(shape=(None,), dtype=\"int64\", name=\"english\")\n",
    "# x = PositionalEmbedding(sequence_length, vocab_size, embed_dim)(encoder_inputs)\n",
    "# encoder_outputs = TransformerEncoder(embed_dim, dense_dim, num_heads)(x)\n",
    "\n",
    "# decoder_inputs = keras.Input(shape=(None,), dtype=\"int64\", name=\"spanish\")\n",
    "# x = PositionalEmbedding(sequence_length, vocab_size, embed_dim)(decoder_inputs)\n",
    "# x = TransformerDecoder(embed_dim, dense_dim, num_heads)(x, encoder_outputs)\n",
    "# x = Dropout(0.5)(x)\n",
    "# decoder_outputs = Dense(vocab_size, activation=\"softmax\")(x)\n",
    "# transformer = keras.Model([encoder_inputs, decoder_inputs], decoder_outputs)"
   ]
  },
  {
   "cell_type": "code",
   "execution_count": 20,
   "metadata": {},
   "outputs": [],
   "source": [
    "class TransformerEncoder(layers.Layer):\n",
    "    def __init__(self, embed_dim, dense_dim, num_heads, **kwargs):\n",
    "        super().__init__(**kwargs)\n",
    "        self.embed_dim = embed_dim\n",
    "        self.dense_dim = dense_dim\n",
    "        self.num_heads = num_heads\n",
    "        self.attention = layers.MultiHeadAttention(\n",
    "            num_heads=num_heads, key_dim=embed_dim\n",
    "        )\n",
    "        self.dense_proj = keras.Sequential(\n",
    "            [layers.Dense(dense_dim, activation=\"relu\"), layers.Dense(embed_dim),]\n",
    "        )\n",
    "        self.layernorm_1 = layers.LayerNormalization()\n",
    "        self.layernorm_2 = layers.LayerNormalization()\n",
    "        self.supports_masking = True\n",
    "\n",
    "    def call(self, inputs, mask=None):\n",
    "        if mask is not None:\n",
    "            padding_mask = tf.cast(mask[:, tf.newaxis, :], dtype=\"int32\")\n",
    "        attention_output = self.attention(\n",
    "            query=inputs, value=inputs, key=inputs, attention_mask=padding_mask\n",
    "        )\n",
    "        proj_input = self.layernorm_1(inputs + attention_output)\n",
    "        proj_output = self.dense_proj(proj_input)\n",
    "        return self.layernorm_2(proj_input + proj_output)\n",
    "\n",
    "\n",
    "\n",
    "class PositionalEmbedding(layers.Layer):\n",
    "    def __init__(self, sequence_length, vocab_size, embed_dim, **kwargs):\n",
    "        super().__init__(**kwargs)\n",
    "        self.token_embeddings = keras.layers.Embedding(\n",
    "            input_dim=vocab_size, output_dim=embed_dim\n",
    "        )\n",
    "        self.position_embeddings = layers.Embedding(\n",
    "            input_dim=sequence_length, output_dim=embed_dim\n",
    "        )\n",
    "        self.sequence_length = sequence_length\n",
    "        self.vocab_size = vocab_size\n",
    "        self.embed_dim = embed_dim\n",
    "\n",
    "    def call(self, inputs):\n",
    "        length = tf.shape(inputs)[-1]\n",
    "        positions = tf.range(start=0, limit=length, delta=1)\n",
    "        embedded_tokens = self.token_embeddings(inputs)\n",
    "        embedded_positions = self.position_embeddings(positions)\n",
    "        return embedded_tokens + embedded_positions\n",
    "\n",
    "    def compute_mask(self, inputs, mask=None):\n",
    "        return tf.math.not_equal(inputs, 0)\n",
    "keras.utils.get_custom_objects()['PositionalEmbedding'] = PositionalEmbedding\n",
    "\n",
    "\n",
    "class TransformerDecoder(layers.Layer):\n",
    "    def __init__(self, embed_dim, latent_dim, num_heads, **kwargs):\n",
    "        super().__init__(**kwargs)\n",
    "        self.embed_dim = embed_dim\n",
    "        self.latent_dim = latent_dim\n",
    "        self.num_heads = num_heads\n",
    "        self.attention_1 = layers.MultiHeadAttention(\n",
    "            num_heads=num_heads, key_dim=embed_dim\n",
    "        )\n",
    "        self.attention_2 = layers.MultiHeadAttention(\n",
    "            num_heads=num_heads, key_dim=embed_dim\n",
    "        )\n",
    "        self.dense_proj = keras.Sequential(\n",
    "            [layers.Dense(latent_dim, activation=\"relu\"), layers.Dense(embed_dim),]\n",
    "        )\n",
    "        self.layernorm_1 = layers.LayerNormalization()\n",
    "        self.layernorm_2 = layers.LayerNormalization()\n",
    "        self.supports_masking = True\n",
    "\n",
    "    def call(self, inputs, encoder_outputs, mask=None):\n",
    "        causal_mask = self.get_causal_attention_mask(inputs)\n",
    "        if mask is not None:\n",
    "            padding_mask = tf.cast(mask[:, tf.newaxis, :], dtype=\"int32\")\n",
    "            padding_mask = tf.minimum(padding_mask, causal_mask)\n",
    "\n",
    "        attention_output_1 = self.attention_1(\n",
    "            query=inputs, value=inputs, key=inputs, attention_mask=causal_mask\n",
    "        )\n",
    "        out_1 = self.layernorm_1(inputs + attention_output_1)\n",
    "        proj_output = self.dense_proj(out_1)\n",
    "        return self.layernorm_2(out_1 + proj_output)\n",
    "\n",
    "    def get_causal_attention_mask(self, inputs):\n",
    "        input_shape = tf.shape(inputs)\n",
    "        batch_size, sequence_length = input_shape[0], input_shape[1]\n",
    "        i = tf.range(sequence_length)[:, tf.newaxis]\n",
    "        j = tf.range(sequence_length)\n",
    "        mask = tf.cast(i >= j, dtype=\"int32\")\n",
    "        mask = tf.reshape(mask, (1, input_shape[1], input_shape[1]))\n",
    "        mult = tf.concat(\n",
    "            [tf.expand_dims(batch_size, -1), tf.constant([1, 1], dtype=tf.int32)],\n",
    "            axis=0,\n",
    "        )\n",
    "        return tf.tile(mask, mult)"
   ]
  },
  {
   "cell_type": "code",
   "execution_count": 21,
   "metadata": {},
   "outputs": [],
   "source": [
    "embed_dim = 62\n",
    "latent_dim = 512\n",
    "num_heads = 2\n",
    "\n",
    "encoder_inputs = keras.Input(shape=(None,), dtype=\"int64\", name=\"encoder_inputs\")\n",
    "x = PositionalEmbedding(sequence_length, vocab_size, embed_dim)(encoder_inputs)\n",
    "encoder_outputs = TransformerEncoder(embed_dim, latent_dim, num_heads)(x)\n",
    "encoder = keras.Model(encoder_inputs, encoder_outputs)\n",
    "\n",
    "decoder_inputs = keras.Input(shape=(None,), dtype=\"int64\", name=\"decoder_inputs\")\n",
    "encoded_seq_inputs = keras.Input(shape=(None, embed_dim), name=\"decoder_state_inputs\")\n",
    "x = PositionalEmbedding(sequence_length, vocab_size, embed_dim)(decoder_inputs)\n",
    "x = TransformerDecoder(embed_dim, latent_dim, num_heads)(x, encoded_seq_inputs)\n",
    "x = layers.Dropout(0.5)(x)\n",
    "decoder_outputs = layers.Dense(vocab_size, activation=\"softmax\")(x)\n",
    "decoder = keras.Model([decoder_inputs, encoded_seq_inputs], decoder_outputs)\n",
    "\n",
    "decoder_outputs = decoder([decoder_inputs, encoder_outputs])\n"
   ]
  },
  {
   "cell_type": "code",
   "execution_count": 22,
   "metadata": {},
   "outputs": [],
   "source": [
    "transformer = keras.Model(\n",
    "    [encoder_inputs, decoder_inputs], decoder_outputs, name=\"transformer\"\n",
    ")"
   ]
  },
  {
   "cell_type": "code",
   "execution_count": 23,
   "metadata": {},
   "outputs": [
    {
     "name": "stdout",
     "output_type": "stream",
     "text": [
      "Model: \"transformer\"\n",
      "__________________________________________________________________________________________________\n",
      " Layer (type)                Output Shape                 Param #   Connected to                  \n",
      "==================================================================================================\n",
      " encoder_inputs (InputLayer  [(None, None)]               0         []                            \n",
      " )                                                                                                \n",
      "                                                                                                  \n"
     ]
    },
    {
     "name": "stdout",
     "output_type": "stream",
     "text": [
      " positional_embedding (Posi  (None, None, 62)             310620    ['encoder_inputs[0][0]']      \n",
      " tionalEmbedding)                                                                                 \n",
      "                                                                                                  \n",
      " decoder_inputs (InputLayer  [(None, None)]               0         []                            \n",
      " )                                                                                                \n",
      "                                                                                                  \n",
      " transformer_encoder (Trans  (None, None, 62)             95496     ['positional_embedding[0][0]']\n",
      " formerEncoder)                                                                                   \n",
      "                                                                                                  \n",
      " model_1 (Functional)        (None, None, 5000)           721116    ['decoder_inputs[0][0]',      \n",
      "                                                                     'transformer_encoder[0][0]'] \n",
      "                                                                                                  \n",
      "==================================================================================================\n",
      "Total params: 1127232 (4.30 MB)\n",
      "Trainable params: 1127232 (4.30 MB)\n",
      "Non-trainable params: 0 (0.00 Byte)\n",
      "__________________________________________________________________________________________________\n",
      "Epoch 1/5\n",
      "WARNING:tensorflow:Gradients do not exist for variables ['positional_embedding/embedding/embeddings:0', 'positional_embedding/embedding_1/embeddings:0', 'transformer_encoder/multi_head_attention/query/kernel:0', 'transformer_encoder/multi_head_attention/query/bias:0', 'transformer_encoder/multi_head_attention/key/kernel:0', 'transformer_encoder/multi_head_attention/key/bias:0', 'transformer_encoder/multi_head_attention/value/kernel:0', 'transformer_encoder/multi_head_attention/value/bias:0', 'transformer_encoder/multi_head_attention/attention_output/kernel:0', 'transformer_encoder/multi_head_attention/attention_output/bias:0', 'dense/kernel:0', 'dense/bias:0', 'dense_1/kernel:0', 'dense_1/bias:0', 'transformer_encoder/layer_normalization/gamma:0', 'transformer_encoder/layer_normalization/beta:0', 'transformer_encoder/layer_normalization_1/gamma:0', 'transformer_encoder/layer_normalization_1/beta:0'] when minimizing the loss. If you're using `model.compile()`, did you forget to provide a `loss` argument?\n",
      "WARNING:tensorflow:Gradients do not exist for variables ['positional_embedding/embedding/embeddings:0', 'positional_embedding/embedding_1/embeddings:0', 'transformer_encoder/multi_head_attention/query/kernel:0', 'transformer_encoder/multi_head_attention/query/bias:0', 'transformer_encoder/multi_head_attention/key/kernel:0', 'transformer_encoder/multi_head_attention/key/bias:0', 'transformer_encoder/multi_head_attention/value/kernel:0', 'transformer_encoder/multi_head_attention/value/bias:0', 'transformer_encoder/multi_head_attention/attention_output/kernel:0', 'transformer_encoder/multi_head_attention/attention_output/bias:0', 'dense/kernel:0', 'dense/bias:0', 'dense_1/kernel:0', 'dense_1/bias:0', 'transformer_encoder/layer_normalization/gamma:0', 'transformer_encoder/layer_normalization/beta:0', 'transformer_encoder/layer_normalization_1/gamma:0', 'transformer_encoder/layer_normalization_1/beta:0'] when minimizing the loss. If you're using `model.compile()`, did you forget to provide a `loss` argument?\n",
      "WARNING:tensorflow:Gradients do not exist for variables ['positional_embedding/embedding/embeddings:0', 'positional_embedding/embedding_1/embeddings:0', 'transformer_encoder/multi_head_attention/query/kernel:0', 'transformer_encoder/multi_head_attention/query/bias:0', 'transformer_encoder/multi_head_attention/key/kernel:0', 'transformer_encoder/multi_head_attention/key/bias:0', 'transformer_encoder/multi_head_attention/value/kernel:0', 'transformer_encoder/multi_head_attention/value/bias:0', 'transformer_encoder/multi_head_attention/attention_output/kernel:0', 'transformer_encoder/multi_head_attention/attention_output/bias:0', 'dense/kernel:0', 'dense/bias:0', 'dense_1/kernel:0', 'dense_1/bias:0', 'transformer_encoder/layer_normalization/gamma:0', 'transformer_encoder/layer_normalization/beta:0', 'transformer_encoder/layer_normalization_1/gamma:0', 'transformer_encoder/layer_normalization_1/beta:0'] when minimizing the loss. If you're using `model.compile()`, did you forget to provide a `loss` argument?\n",
      "WARNING:tensorflow:Gradients do not exist for variables ['positional_embedding/embedding/embeddings:0', 'positional_embedding/embedding_1/embeddings:0', 'transformer_encoder/multi_head_attention/query/kernel:0', 'transformer_encoder/multi_head_attention/query/bias:0', 'transformer_encoder/multi_head_attention/key/kernel:0', 'transformer_encoder/multi_head_attention/key/bias:0', 'transformer_encoder/multi_head_attention/value/kernel:0', 'transformer_encoder/multi_head_attention/value/bias:0', 'transformer_encoder/multi_head_attention/attention_output/kernel:0', 'transformer_encoder/multi_head_attention/attention_output/bias:0', 'dense/kernel:0', 'dense/bias:0', 'dense_1/kernel:0', 'dense_1/bias:0', 'transformer_encoder/layer_normalization/gamma:0', 'transformer_encoder/layer_normalization/beta:0', 'transformer_encoder/layer_normalization_1/gamma:0', 'transformer_encoder/layer_normalization_1/beta:0'] when minimizing the loss. If you're using `model.compile()`, did you forget to provide a `loss` argument?\n",
      "103/103 [==============================] - 58s 410ms/step - loss: 6.4214 - accuracy: 0.2216 - val_loss: 5.4080 - val_accuracy: 0.2424\n",
      "Epoch 2/5\n",
      "103/103 [==============================] - 26s 251ms/step - loss: 5.2533 - accuracy: 0.2552 - val_loss: 5.0785 - val_accuracy: 0.2641\n",
      "Epoch 3/5\n",
      "103/103 [==============================] - 28s 272ms/step - loss: 4.9963 - accuracy: 0.2715 - val_loss: 4.9540 - val_accuracy: 0.2783\n",
      "Epoch 4/5\n",
      "103/103 [==============================] - 39s 380ms/step - loss: 4.8223 - accuracy: 0.2858 - val_loss: 4.8847 - val_accuracy: 0.2863\n",
      "Epoch 5/5\n",
      "103/103 [==============================] - 59s 570ms/step - loss: 4.6797 - accuracy: 0.3004 - val_loss: 4.8372 - val_accuracy: 0.2907\n"
     ]
    },
    {
     "data": {
      "text/plain": [
       "<keras.src.callbacks.History at 0x2210e5b8e50>"
      ]
     },
     "execution_count": 23,
     "metadata": {},
     "output_type": "execute_result"
    }
   ],
   "source": [
    "epochs = 5  # This should be at least 30 for convergence\n",
    "\n",
    "transformer.summary()\n",
    "transformer.compile(\n",
    "    \"rmsprop\", loss=\"sparse_categorical_crossentropy\", metrics=[\"accuracy\"]\n",
    ")\n",
    "transformer.fit(train_data, epochs=epochs, validation_data=val_data)"
   ]
  },
  {
   "cell_type": "code",
   "execution_count": 24,
   "metadata": {},
   "outputs": [
    {
     "name": "stdout",
     "output_type": "stream",
     "text": [
      "What time do you want me to be here?\n",
      "[start] tom se está en la habitación [end]\n"
     ]
    }
   ],
   "source": [
    "spa_vocab = spa_vectorization.get_vocabulary()\n",
    "spa_index_lookup = dict(zip(range(len(spa_vocab)), spa_vocab))\n",
    "max_decoded_sentence_length = 10\n",
    "\n",
    "def decode_sequence(input_sentence):\n",
    "    tokenized_input_sentence = eng_vectorization([input_sentence])\n",
    "    decoded_sentence = \"[start]\"\n",
    "    for i in range(max_decoded_sentence_length):\n",
    "        tokenized_target_sentence = spa_vectorization([decoded_sentence])[:, :-1]\n",
    "        predictions = transformer([tokenized_input_sentence, tokenized_target_sentence])\n",
    "\n",
    "        sampled_token_index = np.argmax(predictions[0, i, :])\n",
    "        sampled_token = spa_index_lookup[sampled_token_index]\n",
    "        decoded_sentence += \" \" + sampled_token\n",
    "\n",
    "        if sampled_token == \"[end]\":\n",
    "            break\n",
    "    return decoded_sentence\n",
    "\n",
    "test_eng_texts = [pair[0] for pair in test_pairs]\n",
    "for _ in range(10):\n",
    "    input_sentence = random.choice(test_eng_texts)\n",
    "    translated = decode_sequence(input_sentence)\n",
    "print(input_sentence)\n",
    "print(translated)"
   ]
  },
  {
   "cell_type": "code",
   "execution_count": 25,
   "metadata": {},
   "outputs": [
    {
     "name": "stderr",
     "output_type": "stream",
     "text": [
      "C:\\Users\\siva\\AppData\\Roaming\\Python\\Python310\\site-packages\\keras\\src\\engine\\training.py:3000: UserWarning: You are saving your model as an HDF5 file via `model.save()`. This file format is considered legacy. We recommend using instead the native Keras format, e.g. `model.save('my_model.keras')`.\n",
      "  saving_api.save_model(\n"
     ]
    }
   ],
   "source": [
    "transformer.save('F:/Projects/Language Translator/model.h5')"
   ]
  },
  {
   "cell_type": "code",
   "execution_count": 26,
   "metadata": {},
   "outputs": [],
   "source": [
    "# import pickle\n",
    "# pickle.dump(transformer,open('F:/Projects/Language Translator/model.pkl','wb'))"
   ]
  },
  {
   "cell_type": "code",
   "execution_count": 27,
   "metadata": {},
   "outputs": [],
   "source": [
    "# pip install flask"
   ]
  },
  {
   "cell_type": "code",
   "execution_count": null,
   "metadata": {},
   "outputs": [],
   "source": []
  }
 ],
 "metadata": {
  "kernelspec": {
   "display_name": "Python 3",
   "language": "python",
   "name": "python3"
  },
  "language_info": {
   "codemirror_mode": {
    "name": "ipython",
    "version": 3
   },
   "file_extension": ".py",
   "mimetype": "text/x-python",
   "name": "python",
   "nbconvert_exporter": "python",
   "pygments_lexer": "ipython3",
   "version": "3.10.9"
  },
  "orig_nbformat": 4
 },
 "nbformat": 4,
 "nbformat_minor": 2
}
